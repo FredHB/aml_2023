{
 "cells": [
  {
   "cell_type": "code",
   "execution_count": null,
   "metadata": {},
   "outputs": [],
   "source": [
    "import csv\n",
    "import os\n",
    "\n",
    "import biosppy.signals.ecg as ecg\n",
    "import matplotlib.pyplot as plt\n",
    "import numpy as np\n",
    "import pandas as pd\n",
    "\n",
    "from scipy.signal import stft\n",
    "from scipy.fft import fft\n",
    "from scipy.signal.windows import hann"
   ]
  },
  {
   "cell_type": "code",
   "execution_count": null,
   "metadata": {},
   "outputs": [],
   "source": [
    "folder = \"../data/processed/\"\n",
    "labels = pd.read_csv(folder+'y_train.csv', index_col='id') # read labels\n",
    "data = pd.read_csv(folder+'/X_train.csv', index_col='id') # read data"
   ]
  },
  {
   "cell_type": "code",
   "execution_count": null,
   "metadata": {},
   "outputs": [],
   "source": [
    "# Retrieve one sample recording per class for plotting\n",
    "labels_array = labels['y'].to_numpy()\n",
    "num_classes = 4\n",
    "sample_signal_ids = []\n",
    "for class_id in range(num_classes):\n",
    "    sample_signal_ids.append(int(np.argwhere(labels_array == class_id)[0]))\n",
    "\n",
    "# make lists of indexes for each class\n",
    "indexes = []\n",
    "for i in [0, 1, 2, 3]:\n",
    "    indexes.append(np.argwhere(labels_array == i).flatten().tolist())\n",
    "\n",
    "# Print indices of the sample signals\n",
    "print(sample_signal_ids)\n",
    "\n",
    "# Show the data\n",
    "data.head()"
   ]
  },
  {
   "cell_type": "code",
   "execution_count": null,
   "metadata": {},
   "outputs": [],
   "source": [
    "def plot_fft_for_sample():\n",
    "    plt.rcParams['axes.labelsize'] = 6\n",
    "    plt.rcParams['axes.titlesize'] = 12\n",
    "    plt.rcParams['xtick.labelsize'] = 6\n",
    "    plt.rcParams['ytick.labelsize'] = 6\n",
    "    plt.figure(figsize=(12, 6))\n",
    "\n",
    "    def get_sample(): # get random sample of indexes from each class\n",
    "        return indexes[0][np.random.randint(0, len(indexes[0]), 1)[0]], \\\n",
    "        indexes[1][np.random.randint(0, len(indexes[1]), 1)[0]], \\\n",
    "        indexes[2][np.random.randint(0, len(indexes[2]), 1)[0]], \\\n",
    "        indexes[3][np.random.randint(0, len(indexes[3]), 1)[0]]\n",
    "        \n",
    "    sample = get_sample()\n",
    "\n",
    "    # now plot the sample and the fft\n",
    "    for i in range(4):\n",
    "        measurements = data.loc[ sample[i] ].dropna().to_numpy(dtype='float32')\n",
    "\n",
    "        # Sample ECG data (replace with your actual data)\n",
    "        # In this example, ecg_data should be a 1-D numpy array containing ECG signal values\n",
    "        # 'sampling_rate' should be the rate at which the data was sampled\n",
    "        ecg_data = measurements\n",
    "        sampling_rate = 300  # measurements per second\n",
    "\n",
    "        # Perform Fourier Transform\n",
    "        ecg_fft = fft(ecg_data)\n",
    "        fft_frequency = np.linspace(0, sampling_rate, len(ecg_data))\n",
    "\n",
    "        # Compute magnitude of the FFT (since the result is complex)\n",
    "        magnitude = np.abs(ecg_fft)\n",
    "\n",
    "        # Plotting the result\n",
    "        plt.subplot(4,2,2*(i+1)-1)\n",
    "        plt.plot([i/300 for i in range(len(ecg_data))], ecg_data, lw=0.5, color='k')\n",
    "        plt.title('Original ECG Signal ['+str(labels_array[sample[i]])+']')\n",
    "        plt.xlabel('Time')\n",
    "        plt.ylabel('Amplitude')\n",
    "\n",
    "        plt.subplot(4,2,2*(i+1))\n",
    "        plt.plot(fft_frequency, magnitude, lw=1, color='k')\n",
    "        plt.title('Magnitude of the FFT of the ECG Signal')\n",
    "        plt.xlabel('Frequency (Hz)')\n",
    "        plt.ylabel('Magnitude')\n",
    "        plt.xlim(0, sampling_rate / 2)  # Limiting x-axis to half the sampling rate as per Nyquist theorem\n",
    "        plt.tight_layout()\n",
    "\n",
    "    plt.show()\n",
    "\n",
    "# Plot the spectrogram of the stft of a sample of signals\n",
    "def plot_stft_spectrogram_for_sample():\n",
    "    sampling_rate = 300  # sampling rate of ECG data\n",
    "\n",
    "    plt.rcParams['axes.labelsize'] = 6\n",
    "    plt.rcParams['axes.titlesize'] = 6\n",
    "    plt.rcParams['xtick.labelsize'] = 6\n",
    "    plt.rcParams['ytick.labelsize'] = 6\n",
    "\n",
    "    sample = get_sample()\n",
    "\n",
    "    fig, axs = plt.subplots(2, 2, figsize=(6, 6))  # Create a figure and a 2x2 grid of axes\n",
    "    \n",
    "    for i in range(4):\n",
    "        ax = axs[i//2, i%2]  # Select the appropriate subplot\n",
    "\n",
    "        # Sample ECG data\n",
    "        # In this example, ecg_data should be a 1-D numpy array containing ECG signal values\n",
    "        ecg_data = data.loc[ sample[i] ].dropna().to_numpy(dtype='float32')\n",
    "        f, t, Zxx = stft(ecg_data, fs=sampling_rate, window='hann', nperseg=400)\n",
    "\n",
    "        ax.pcolormesh(t, f, np.log(np.abs(Zxx)), shading='gouraud', cmap='jet')\n",
    "        ax.set_title(\"Type \" + str(labels_array[sample[i]]))\n",
    "        ax.set_ylabel('Frequency [Hz]')\n",
    "        ax.set_xlabel('Time [sec]')\n",
    "        ax.set_ylim(0, 150)  # Limiting y-axis to frequencies below 75 Hz\n",
    "        ax.set_xlim(1.5, 11.5)  # Limiting y-axis to frequencies below 75 Hz\n",
    "\n",
    "    fig.tight_layout()\n",
    "    plt.show()\n",
    "\n",
    "def plot_features(signal):\n",
    "    r_peaks = ecg.engzee_segmenter(signal, 300)['rpeaks']\n",
    "    #print(r_peaks)\n",
    "    if len(r_peaks) >= 2:\n",
    "        #print(ecg.extract_heartbeats(signal, r_peaks, 300))\n",
    "        beats = ecg.extract_heartbeats(signal, r_peaks, 300)['templates']\n",
    "\n",
    "        if len(beats) != 0:\n",
    "            mu = np.mean(beats, axis=0) \n",
    "            var = np.std(beats, axis=0)\n",
    "            md = np.median(beats, axis=0)\n",
    "            \n",
    "            plt.plot(range(mu.shape[0]), mu, label='Average HeartBeat')\n",
    "            # Fill the variance range\n",
    "            plt.fill_between(range(mu.shape[0]), mu - var, mu + var, linewidth=0, alpha=0.1)\n",
    "            # Plot a median\n",
    "            plt.plot(range(md.shape[0]), md, 'k', label='Median HeartBeat', color='#CC4F1B')"
   ]
  },
  {
   "cell_type": "markdown",
   "metadata": {},
   "source": [
    "### Pay attention to NaN values! \n",
    "\n",
    "Unlike many medical application, these NaNs **DO NOT** represent missing values but appear because of variable length of the signals. ECG recordings normally don't have missing values and are sampled equally.\n",
    "\n",
    "Despite being put into a tabular CSV format / Pandas Dataframe, the data is still a raw signal with variable lengths. Coumns *x0, ..., x17806* correspond to measurements at time stamps *0, ..., 17806* and not to different features of the data point. If the signal is too short then all the coumns after the last measurement have NaN values,"
   ]
  },
  {
   "cell_type": "markdown",
   "metadata": {},
   "source": [
    "## Plot sample signals for each class"
   ]
  },
  {
   "cell_type": "markdown",
   "metadata": {},
   "source": [
    "First, show me some signals from each class. I want to see if there are any obvious differences between the classes."
   ]
  },
  {
   "cell_type": "code",
   "execution_count": null,
   "metadata": {},
   "outputs": [],
   "source": [
    "# Some matplotlib setting \n",
    "plt.rcParams['lines.linewidth'] = 1\n",
    "plt.rcParams['xtick.labelsize'] = 8\n",
    "plt.rcParams['ytick.labelsize'] = 8\n",
    "plt.rcParams['axes.labelsize'] = 8\n",
    "plt.rcParams['axes.titlesize'] = 8\n",
    "\n",
    "fig, axs = plt.subplots(4, 1, figsize=(10, 5), sharex=True)\n",
    "\n",
    "seconds = np.arange(0, 600) / 30 \n",
    "x_labels = [0, 5, 10, 15, 20]\n",
    "\n",
    "for class_id in range(num_classes):\n",
    "    ax = axs[class_id]\n",
    "    #ax.set_title(\"Class {}\".format(class_id))\n",
    "    \n",
    "    measurements = data.loc[sample_signal_ids[class_id]].dropna().to_numpy(dtype='float32')\n",
    "    # Get a subsequence of a signal and downsample it for visualization purposes\n",
    "    measurements = measurements[1000:7000:10] \n",
    "    # convert volts to millivolts\n",
    "    measurements /= 1000\n",
    "    ax.plot(seconds, measurements, color='k')\n",
    "    ax.set_xticks(x_labels)\n",
    "          \n",
    "fig.tight_layout()\n",
    "\n",
    "# Display x- and y-labels for the whole plot\n",
    "ax = fig.add_subplot(111, frameon=False)\n",
    "# hide tick and tick label of the big axes\n",
    "plt.tick_params(labelcolor='none', top=False, bottom=False, left=False, right=False)\n",
    "ax.yaxis.set_label_coords(-0.05, 0.5)\n",
    "plt.xlabel('Time [s]')\n",
    "plt.ylabel('Amplitude [mV]')            \n",
    "plt.show()"
   ]
  },
  {
   "cell_type": "markdown",
   "metadata": {},
   "source": [
    "Also, look at the **Fourier transform of the signals**, to see whether the different classes can be distinguished well by their frequency spectrum."
   ]
  },
  {
   "cell_type": "code",
   "execution_count": null,
   "metadata": {},
   "outputs": [],
   "source": [
    "plot_fft_for_sample()"
   ]
  },
  {
   "cell_type": "markdown",
   "metadata": {},
   "source": [
    "Then look at the **mean and median heartbeat** for a sample from each class."
   ]
  },
  {
   "cell_type": "code",
   "execution_count": null,
   "metadata": {},
   "outputs": [],
   "source": [
    "sample = get_sample()\n",
    "plt.rcParams['lines.linewidth'] = 1\n",
    "plt.figure(figsize=(10, 4))\n",
    "for class_id in range(num_classes):\n",
    "    ax = plt.subplot(1, 4, class_id + 1)\n",
    "    ax.set_ylim([-700, 1200])\n",
    "    if class_id:\n",
    "        ax.set_yticks([])\n",
    "    plot_features(data.loc[sample[class_id]].dropna().to_numpy(dtype='float32'))\n",
    "    ax.set_title(\"Class {}\".format(class_id))\n",
    "\n",
    "plt.tight_layout()\n",
    "plt.show()"
   ]
  },
  {
   "cell_type": "markdown",
   "metadata": {},
   "source": [
    "Also plot the **short-time Fourier transform** (STFT) to see how the frequency spectrum changes over time. We plot the spectrum as a spectrogram heatmap."
   ]
  },
  {
   "cell_type": "code",
   "execution_count": null,
   "metadata": {},
   "outputs": [],
   "source": [
    "plot_stft_spectrogram_for_sample()"
   ]
  },
  {
   "cell_type": "markdown",
   "metadata": {},
   "source": [
    "# Prepare Data"
   ]
  },
  {
   "cell_type": "code",
   "execution_count": null,
   "metadata": {},
   "outputs": [],
   "source": [
    "# get the spectrogram figure\n",
    "def get_spectrogram(f, t, Zxx, nsec=10, segment=0, show=False):\n",
    "    \n",
    "    t_lo = nsec*(segment)+1.5 # add 1.5 to account for the window size\n",
    "    t_up = nsec*(segment+1)+1.5\n",
    "    if t_up > max(t):\n",
    "        return None\n",
    "    fig, ax = plt.subplots(1,1, figsize=(3, 3));  # Create a figure\n",
    "    ax.pcolormesh(t, f, Zxx, shading='gouraud', cmap='jet');\n",
    "    ax.set_xticklabels(\"\");\n",
    "    ax.set_yticklabels(\"\");\n",
    "    ax.set_xticks([]);\n",
    "    ax.set_yticks([]);\n",
    "    ax.set_ylim(0, 150);  # Limiting y-axis to frequencies below 60 Hz\n",
    "    ax.set_xlim(t_lo, t_up);  # Limiting x-axis to the time interval of interest\n",
    "    fig.tight_layout();\n",
    "    if show:\n",
    "        plt.show()\n",
    "    return fig\n"
   ]
  },
  {
   "cell_type": "code",
   "execution_count": null,
   "metadata": {},
   "outputs": [],
   "source": [
    "# save the spectrogram figure\n",
    "def save_spectrograms(index, labels_array, data, folder, M=256, sampling_rate=300, show=False):\n",
    "    \n",
    "    ecg_data = data.loc[ index ].dropna().to_numpy(dtype='float32')\n",
    "    label = labels_array[index]\n",
    "\n",
    "    cat_folder = f\"{label}/\"\n",
    "    os.makedirs(folder + cat_folder, exist_ok=True)\n",
    "\n",
    "    f, t, Zxx = stft(ecg_data, fs=sampling_rate, window=hann(M), nperseg=M)\n",
    "    figs = []\n",
    "    for seg in range(10):\n",
    "        fig = get_spectrogram(f, t, np.log(np.abs(Zxx)+.0001), nsec=10, segment=seg, show=show);\n",
    "        if fig is None:\n",
    "            break\n",
    "        figs.append(fig)\n",
    "        fig.savefig(folder + cat_folder + f'sg_{index}_{seg}.png')  # Save the figure\n",
    "        if show:\n",
    "            print(f'sg_{index}_{seg}.png')\n",
    "            plt.show()\n",
    "        fig.clf()\n",
    "        plt.close(fig)"
   ]
  },
  {
   "cell_type": "code",
   "execution_count": null,
   "metadata": {},
   "outputs": [],
   "source": [
    "M = 256 # window size\n",
    "sampling_rate = 300\n",
    "\n",
    "for index in range(len(data)):\n",
    "    if not (f\"{(index+1)/len(data):.0%}\" == f\"{index/len(data):.0%}\"):\n",
    "        print(f\"{index/len(data):.0%} \", end=\"\")\n",
    "    folder = \"../data/spectrograms/\"\n",
    "\n",
    "    save_spectrograms(index, labels_array, data, folder, M=256, sampling_rate=300, show=False);"
   ]
  },
  {
   "cell_type": "code",
   "execution_count": null,
   "metadata": {},
   "outputs": [],
   "source": []
  }
 ],
 "metadata": {
  "kernelspec": {
   "display_name": "Python 3 (ipykernel)",
   "language": "python",
   "name": "python3"
  },
  "language_info": {
   "codemirror_mode": {
    "name": "ipython",
    "version": 3
   },
   "file_extension": ".py",
   "mimetype": "text/x-python",
   "name": "python",
   "nbconvert_exporter": "python",
   "pygments_lexer": "ipython3",
   "version": "3.11.6"
  }
 },
 "nbformat": 4,
 "nbformat_minor": 1
}
