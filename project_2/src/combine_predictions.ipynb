{
 "cells": [
  {
   "cell_type": "code",
   "execution_count": null,
   "metadata": {
    "tags": [
     "parameters"
    ]
   },
   "outputs": [],
   "source": [
    "window_size = 128\n",
    "model1 = \"resnet34-cel_5_tuned\"\n",
    "model2 = \"resnet34-cel_5_tuned\""
   ]
  },
  {
   "cell_type": "code",
   "execution_count": null,
   "metadata": {},
   "outputs": [],
   "source": [
    "import csv\n",
    "import os\n",
    "import numpy as np\n",
    "import pandas as pd\n",
    "from fastcore.all import *\n",
    "\n",
    "os.chdir(\"src\")\n",
    "model1_path = f\"spectrograms_{window_size}/predictions/{model1}_testset.csv\"\n",
    "model2_path = f\"lineplots/predictions/{model2}_testset.csv\"\n"
   ]
  },
  {
   "cell_type": "code",
   "execution_count": null,
   "metadata": {},
   "outputs": [],
   "source": [
    "p1 = Path('../out/')/model1_path\n",
    "p2 = Path('../out/')/model2_path\n",
    "\n",
    "df1 = pd.read_csv(p1)\n",
    "df2 = pd.read_csv(p2)"
   ]
  },
  {
   "cell_type": "code",
   "execution_count": null,
   "metadata": {},
   "outputs": [],
   "source": [
    "df_new = df1.copy()\n",
    "\n",
    "bool_sel = df1.pred_label != df2.pred_label\n",
    "\n",
    "df_new.loc[bool_sel, 'p_0':'p_4'] = df1.loc[bool_sel].loc[:, 'p_0':'p_4'].add(df2.loc[bool_sel].loc[:, 'p_0':'p_4'])/2\n",
    "\n",
    "df_new.loc[:, \"pred_label\"] = df_new.loc[:, 'p_0':'p_4'].idxmax(axis=1).str[2:].astype(int)\n",
    "df_new[bool_sel]"
   ]
  },
  {
   "cell_type": "code",
   "execution_count": null,
   "metadata": {},
   "outputs": [],
   "source": [
    "p_out = Path('../out/ensemble/predictions')\n",
    "p_out.mkdir(parents=True, exist_ok=True)\n",
    "df_new.to_csv(p_out/f\"sgrams_{model1}_bw{window_size}_lgrams_{model2}.csv\", index=False)"
   ]
  },
  {
   "cell_type": "code",
   "execution_count": null,
   "metadata": {},
   "outputs": [],
   "source": [
    "df_submission = df_new.loc[:, ['id', 'pred_label']]\n",
    "df_submission.columns = ['id', 'y']\n",
    "df_submission.to_csv(p_out/f\"sgrams_{model1}_bw{window_size}_lgrams_{model2}_submission.csv\", index=False)\n",
    "print(f\"sgrams_{model1}_bw{window_size}_lgrams_{model2}_submission\")"
   ]
  }
 ],
 "metadata": {
  "kernelspec": {
   "display_name": "aml_course",
   "language": "python",
   "name": "python3"
  },
  "language_info": {
   "codemirror_mode": {
    "name": "ipython",
    "version": 3
   },
   "file_extension": ".py",
   "mimetype": "text/x-python",
   "name": "python",
   "nbconvert_exporter": "python",
   "pygments_lexer": "ipython3",
   "version": "3.11.6"
  }
 },
 "nbformat": 4,
 "nbformat_minor": 2
}
