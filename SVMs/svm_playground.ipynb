{
 "cells": [
  {
   "cell_type": "code",
   "execution_count": null,
   "metadata": {},
   "outputs": [],
   "source": [
    "import numpy as np\n",
    "import pandas as pd\n",
    "import seaborn as sns\n",
    "from sklearn.model_selection import train_test_split\n",
    "from sklearn.linear_model import LinearRegression\n",
    "from sklearn.metrics import mean_squared_error\n",
    "import matplotlib.pyplot as plt\n"
   ]
  },
  {
   "cell_type": "code",
   "execution_count": null,
   "metadata": {},
   "outputs": [],
   "source": [
    "# Define your custom feature map function\n",
    "def custom_feature_map(X):\n",
    "    # Perform your custom feature mapping here\n",
    "    # Return the transformed feature matrix\n",
    "    return np.array([np.abs(X)**0.5], dtype=np.float64).reshape(X.shape[0], -1)\n",
    "\n",
    "# Define your custom kernel function\n",
    "def custom_kernel(X, Y, feature_map=custom_feature_map):\n",
    "    return (np.dot(custom_feature_map(X), custom_feature_map(Y).T) +1)**2 +(np.dot(custom_feature_map(X), custom_feature_map(Y).T) +1)/10000"
   ]
  },
  {
   "cell_type": "code",
   "execution_count": null,
   "metadata": {},
   "outputs": [],
   "source": [
    "# Test the two functions on some input\n",
    "X = np.array([[1, 2, 3 ], [2, 4, 5]])\n",
    "Y = np.array([[0, 6, 3 ], [1, 2, 3], [1, 2, 3]])\n",
    "print(\"Input matrices:\\n\",X, \"\\n\\n\", Y,  \"\\n\\nTransformed features:\\n\",custom_feature_map(Y), \"\\n\\nGram matrix between the two matrices:\\n\",custom_kernel(X, Y) )"
   ]
  },
  {
   "cell_type": "code",
   "execution_count": null,
   "metadata": {},
   "outputs": [],
   "source": [
    "from sklearn.datasets import make_blobs\n",
    "from sklearn.svm import SVC\n",
    "\n",
    "# Increase the figure size\n",
    "plt.figure(figsize=(10, 8))\n",
    "\n",
    "# Simulate data in the x-y plane\n",
    "X, y = make_blobs(n_samples=100, centers=2, random_state=0, cluster_std=1)\n",
    "\n",
    "# Create the SVC classifier with your custom feature map\n",
    "svm = SVC(kernel=custom_kernel, C=1.0)\n",
    "\n",
    "# Fit the classifier to the data\n",
    "svm.fit(X, y)\n",
    "\n",
    "# Plot the data points and the decision boundary\n",
    "plt.scatter(X[:, 0], X[:, 1], c=y, cmap='viridis')\n",
    "ax = plt.gca()\n",
    "xlim = ax.get_xlim()\n",
    "ylim = ax.get_ylim()\n",
    "\n",
    "# Create grid to evaluate the classifier\n",
    "xx = np.linspace(xlim[0], xlim[1], 30)\n",
    "yy = np.linspace(ylim[0], ylim[1], 30)\n",
    "YY, XX = np.meshgrid(yy, xx)\n",
    "xy = np.vstack([XX.ravel(), YY.ravel()]).T\n",
    "Z = svm.decision_function(xy).reshape(XX.shape)\n",
    "\n",
    "# Plot decision boundary and margins\n",
    "ax.contour(XX, YY, Z, colors='k', levels=[-1, 0, 1], alpha=0.5,\n",
    "           linestyles=['--', '-', '--'])\n",
    "ax.scatter(X[svm.support_, 0], X[svm.support_, 1], s=100,\n",
    "           linewidth=1, facecolors='none', edgecolors='k')\n",
    "plt.xlabel('X')\n",
    "plt.ylabel('Y')\n",
    "plt.title('SVM Decision Boundary')\n",
    "plt.show()\n"
   ]
  }
 ],
 "metadata": {
  "kernelspec": {
   "display_name": "aml_course",
   "language": "python",
   "name": "python3"
  },
  "language_info": {
   "codemirror_mode": {
    "name": "ipython",
    "version": 3
   },
   "file_extension": ".py",
   "mimetype": "text/x-python",
   "name": "python",
   "nbconvert_exporter": "python",
   "pygments_lexer": "ipython3",
   "version": "3.11.6"
  }
 },
 "nbformat": 4,
 "nbformat_minor": 2
}
