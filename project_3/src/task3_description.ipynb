{
 "cells": [
  {
   "cell_type": "markdown",
   "metadata": {},
   "source": [
    "# Task 3: Helper notebook for loading the data and saving the predictions"
   ]
  },
  {
   "cell_type": "code",
   "execution_count": null,
   "metadata": {},
   "outputs": [],
   "source": [
    "import pickle\n",
    "import gzip\n",
    "import numpy as np\n",
    "import os\n",
    "from fastcore.all import *\n",
    "\n",
    "data_path = Path('../data/processed/')\n"
   ]
  },
  {
   "cell_type": "markdown",
   "metadata": {},
   "source": [
    "### Helper functions"
   ]
  },
  {
   "cell_type": "code",
   "execution_count": null,
   "metadata": {},
   "outputs": [],
   "source": [
    "def load_zipped_pickle(filename):\n",
    "    with gzip.open(filename, 'rb') as f:\n",
    "        loaded_object = pickle.load(f)\n",
    "        return loaded_object"
   ]
  },
  {
   "cell_type": "code",
   "execution_count": null,
   "metadata": {},
   "outputs": [],
   "source": [
    "def save_zipped_pickle(obj, filename):\n",
    "    with gzip.open(filename, 'wb') as f:\n",
    "        pickle.dump(obj, f, 2)"
   ]
  },
  {
   "cell_type": "markdown",
   "metadata": {},
   "source": [
    "### Load data, make predictions and save prediction in correct format"
   ]
  },
  {
   "cell_type": "code",
   "execution_count": null,
   "metadata": {},
   "outputs": [],
   "source": [
    "# load data\n",
    "train_data = load_zipped_pickle(data_path/\"train.pkl\")\n",
    "test_data = load_zipped_pickle(data_path/\"test.pkl\")\n",
    "samples = load_zipped_pickle(data_path/\"sample.pkl\")"
   ]
  },
  {
   "cell_type": "code",
   "execution_count": null,
   "metadata": {},
   "outputs": [],
   "source": [
    "train_data[2][\"video\"][:,:,0]\n",
    "expert = [list for list in train_data if not (list[\"dataset\"] == \"amateur\")]\n"
   ]
  },
  {
   "cell_type": "code",
   "execution_count": null,
   "metadata": {},
   "outputs": [],
   "source": [
    "import matplotlib.pyplot as plt\n",
    "\n",
    "def show_mitral_segmentation(expert_id, expert):\n",
    "\n",
    "    print(\"Expert #\", expert_id)\n",
    "\n",
    "    frameid_1 = expert[expert_id]['frames'][0]\n",
    "    frameid_2 = expert[expert_id]['frames'][len(expert[expert_id]['frames'])-1]\n",
    "\n",
    "    # Plotting two frames side by side\n",
    "    fig, axs = plt.subplots(1, 2, figsize=(10, 5))\n",
    "\n",
    "    # Plotting the first frame\n",
    "    frame1 = expert[expert_id]['video'][:, :, frameid_1]\n",
    "    label1 = expert[expert_id]['label'][:, :, frameid_1]\n",
    "\n",
    "    axs[0].imshow(frame1, cmap='gray')\n",
    "    axs[0].imshow(label1, cmap='jet', alpha=0.5)  # Overlay label1 with transparency\n",
    "    axs[0].set_title('Frame '+str(frameid_1))\n",
    "\n",
    "    # Plotting the second frame\n",
    "    frame2 = expert[expert_id]['video'][:, :, frameid_2]\n",
    "    label2 = expert[expert_id]['label'][:, :, frameid_2]\n",
    "\n",
    "    axs[1].imshow(frame2, cmap='gray')\n",
    "    axs[1].imshow(label2, cmap='jet', alpha=0.5)  # Overlay label2 with transparency\n",
    "    axs[1].set_title('Frame 2'+str(frameid_2))\n",
    "\n",
    "    plt.show()\n"
   ]
  },
  {
   "cell_type": "code",
   "execution_count": null,
   "metadata": {},
   "outputs": [],
   "source": [
    "expert_id=1"
   ]
  },
  {
   "cell_type": "code",
   "execution_count": null,
   "metadata": {},
   "outputs": [],
   "source": [
    "show_mitral_segmentation(expert_id, expert)\n",
    "expert_id+=1"
   ]
  },
  {
   "cell_type": "code",
   "execution_count": null,
   "metadata": {},
   "outputs": [],
   "source": [
    "# make prediction for test\n",
    "predictions = []\n",
    "for d in test_data:\n",
    "    prediction = np.array(np.zeros_like(d['video']), dtype=np.bool)\n",
    "    height = prediction.shape[0]\n",
    "    width = prediction.shape[1]\n",
    "    prediction[int(height/2)-50:int(height/2+50), int(width/2)-50:int(width/2+50)] = True\n",
    "    \n",
    "    # DATA Strucure\n",
    "    predictions.append({\n",
    "        'name': d['name'],\n",
    "        'prediction': prediction\n",
    "        }\n",
    "    )"
   ]
  },
  {
   "cell_type": "code",
   "execution_count": null,
   "metadata": {},
   "outputs": [],
   "source": [
    "13+15+20+9+14+4+12"
   ]
  },
  {
   "cell_type": "code",
   "execution_count": null,
   "metadata": {},
   "outputs": [],
   "source": [
    "# save in correct format\n",
    "save_zipped_pickle(predictions, 'my_predictions.pkl')"
   ]
  },
  {
   "cell_type": "markdown",
   "metadata": {},
   "source": [
    "### TASK 3: MITRAL VALVE SEGMENTATION\n",
    "\n",
    "The mitral valve is the largest valve of the heart and regulates the blood flow between the left atrium and the left ventricle. It is composed by two leaflets, the anterior and the posterior leaflet, that are attached to a fibrous ring known as the mitral annulus. In healthy patients, the left atrium contracts during diastole and the blood flows through the open MV into the left ventricle while it is dilating.\n",
    "Echocardiography is a medical imaging technique that produces 2D pictures and videos of the heart using ultrasound waves generated by a transducer, scattered and reflected by biological tissues and read by a detector. Echocardiography is the standard imaging tool in the clinical routine to perform the diagnosis of most of heart diseases and dysfunctions, including MV diseases.\n",
    "Mitral valve segmentation specifies a crucial first step to establish a machine learning pipeline that can support practitioners in performing multiple tasks including the diagnosis of mitral valve diseases, surgical planning, and intraoperative procedures. Therefore, this task will be concerned with the segmentation of the mitral valve in echocardiography videos.\n",
    "\n",
    "The training set consists of 65 videos in which the mitral valve is labled in three different frames in each video. Additionllay, a bounding box surounding the mitral valve is provided for each video. The test set consists of 20 videos. For each video in the test set the mitral valve should be segmented for all frames.\n",
    "\n",
    "### DATA DESCRIPTION\n",
    "\n",
    "\n",
    "The samples originate from two different data sets: One data set was labeled by experienced cardiologist and consists of high resolution videos, and the other was labeled by amateurs and has relatively low resolution. While the training data consists of videos from both data sets the test videos (where you need to make the predictions) are evaluated based on expert labels only. It is up to you to decide to which extend you want to use the amateur labeled videos for the training of your model.\n",
    "\n",
    "The data for this task consists of the following files:\n",
    "\n",
    "train.pkl - the training data with the videos, bounding boxes, labels and information about the data source\n",
    "test.pkl - the test data with the videos where the MV should be segmented\n",
    "sample.pkl - a sample submission file in the correct format\n",
    "task3.ipynb - a helper notebook containing functions for reading and saving the pickle (*.pkl) files\n",
    "The training data (train.pkl) is a list of dictionaries containing the following keys: name, video, box, label, frames, dataset. An single dictionary has the following strucure:\n",
    "\n",
    "    {\n",
    "     'name': 'AC8ASN45B9',\n",
    "\n",
    "     'video': array([...], dtype='uint8'),\n",
    "\n",
    "     'box': array([...], dtype='bool'),\n",
    "\n",
    "     'label': array([...], dtype='bool'),\n",
    "\n",
    "     'frames': [41, 65, 167],\n",
    "\n",
    "     'dataset': 'amateur'\n",
    "    }\n",
    "  \n",
    "The shape of the video is (height, width, number of frames), the box has shape (height, width) and the label has the same shape as the video. The frames is a list of indices (starting at zero), indicating which frames are labeled. The dataset key describes if the video was labeled by amateurs or experts."
   ]
  }
 ],
 "metadata": {
  "kernelspec": {
   "display_name": "Python 3",
   "language": "python",
   "name": "python3"
  },
  "language_info": {
   "codemirror_mode": {
    "name": "ipython",
    "version": 3
   },
   "file_extension": ".py",
   "mimetype": "text/x-python",
   "name": "python",
   "nbconvert_exporter": "python",
   "pygments_lexer": "ipython3",
   "version": "3.11.6"
  }
 },
 "nbformat": 4,
 "nbformat_minor": 4
}
