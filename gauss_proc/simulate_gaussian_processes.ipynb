{
 "cells": [
  {
   "cell_type": "markdown",
   "metadata": {},
   "source": [
    "- Import packages\n",
    "- Define kernel functions\n",
    "- Define function to generate covariance matrix given $x$, a kernel function and its parameters"
   ]
  },
  {
   "cell_type": "code",
   "execution_count": null,
   "metadata": {},
   "outputs": [],
   "source": [
    "import numpy as np\n",
    "import matplotlib.pyplot as plt\n",
    "from numba import njit\n",
    "\n",
    "# Generate a random Gaussian process\n",
    "# with mean 0 and covariance function k(x, y)\n",
    "\n",
    "@njit\n",
    "def k_rbf(x, y, args):\n",
    "    σ, l = args\n",
    "    return σ**2 * np.exp(-(x - y)**2 / (2*l**2))\n",
    "\n",
    "@njit\n",
    "def k_per(x, y, args):\n",
    "    σ, l, p = args\n",
    "    return σ**2 * np.exp(- 2*np.sin(np.pi * np.abs(x - y) / p)**2 / (l**2))\n",
    "\n",
    "@njit\n",
    "def make_covariance_matrix(x, k, kargs):\n",
    "    n = len(x)\n",
    "    K = np.zeros((n, n))\n",
    "    for i in range(n):\n",
    "        for j in range(n):\n",
    "            K[i, j] = k(x[i], x[j], kargs)\n",
    "    return K\n"
   ]
  },
  {
   "cell_type": "markdown",
   "metadata": {},
   "source": [
    "Define function to...\n",
    "- generate samples from a Gaussian process given $x$, a kernel function and its parameters\n",
    "- plot the samples of the process and the covariance matrix $K(x, x^T)$"
   ]
  },
  {
   "cell_type": "code",
   "execution_count": null,
   "metadata": {},
   "outputs": [],
   "source": [
    "def plot_sim(x, K, title):\n",
    "    \n",
    "    plt.figure(figsize=(10,1.5))\n",
    "    plt.subplot(121)\n",
    "    y = np.random.multivariate_normal(np.zeros(len(x)), K)\n",
    "    plt.plot(x, y, 'r-')\n",
    "    plt.title(title)\n",
    "    for i in range(10):\n",
    "        y = np.random.multivariate_normal(np.zeros(len(x)), K)\n",
    "        plt.plot(x, y, alpha = 0.1, color = 'black')\n",
    "\n",
    "    plt.subplot(122)\n",
    "    plt.imshow(K, cmap='viridis', interpolation='nearest', vmin=-1, vmax=1)\n",
    "    plt.show()\n"
   ]
  },
  {
   "cell_type": "code",
   "execution_count": null,
   "metadata": {},
   "outputs": [],
   "source": [
    "??plt.imshow"
   ]
  },
  {
   "cell_type": "markdown",
   "metadata": {},
   "source": [
    "Run the function ```plot_sim``` for a list of parameter values\n",
    "\n",
    "```\n",
    "    [(0.8, 0.5, 0.5), (0.8, 0.5, 1), (0.8, 2, 0.5), (0.33, 0.5, 0.5), (0.33, 0.5, 1), (0.33, 2, 1)]\n",
    "```\n",
    "\n",
    "and the kernel functions\n",
    "\n",
    "```\n",
    "    [k_per, k_rbf]\n",
    "```"
   ]
  },
  {
   "cell_type": "code",
   "execution_count": null,
   "metadata": {},
   "outputs": [],
   "source": [
    "x = np.linspace(-3, 3, 100)\n",
    "args_list = [(0.8, 0.5), (0.8, 2), (0.33, 0.5), (0.33, 2)]\n",
    "for args in args_list:\n",
    "    title = 'Gaussian process with: RBF kernel, σ='+str(args[0])+' l='+str(args[1])\n",
    "    K = make_covariance_matrix(x,k_rbf, args)\n",
    "    plot_sim(x, K, title)\n",
    "\n",
    "args_list = [(0.8, 0.5, 0.5), (0.8, 0.5, 1), (0.8, 2, 0.5), (0.33, 0.5, 0.5), (0.33, 0.5, 1), (0.33, 2, 1)]\n",
    "for args in args_list:\n",
    "    title = 'Gaussian process with: periodic kernel, σ='+str(args[0])+' l='+str(args[1])+' p='+str(args[2])\n",
    "    K = make_covariance_matrix(x,k_per, args)\n",
    "    plot_sim(x, K, title)\n"
   ]
  }
 ],
 "metadata": {
  "kernelspec": {
   "display_name": "Python 3",
   "language": "python",
   "name": "python3"
  },
  "language_info": {
   "codemirror_mode": {
    "name": "ipython",
    "version": 3
   },
   "file_extension": ".py",
   "mimetype": "text/x-python",
   "name": "python",
   "nbconvert_exporter": "python",
   "pygments_lexer": "ipython3",
   "version": "3.11.6"
  },
  "orig_nbformat": 4
 },
 "nbformat": 4,
 "nbformat_minor": 2
}
